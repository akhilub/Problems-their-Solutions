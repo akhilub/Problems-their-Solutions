{
 "cells": [
  {
   "cell_type": "markdown",
   "id": "progressive-norwegian",
   "metadata": {},
   "source": [
    "\n",
    "$$\n",
    "x_{ij} = \\left\\{\n",
    "    \\begin{array}\\\\\n",
    "        1 & \\mbox{if we place a queen in row i and column j} \\\\\n",
    "        0 & \\mbox{otherwise} \\\\\n",
    "    \\end{array}\n",
    "\\right. \\;\\;\\;\\;\\;\\; i,j = 1...n\n",
    "$$\n",
    "\n",
    "Place n queens on the board.\n",
    "$$\\sum_{i=1}^n\\sum_{j=1}^nx_{ij} = n $$\n",
    "\n",
    "Only one queen is allowed per row:\n",
    "\n",
    "$$\\sum_{j=1}^nx_{ij} \\leq 1 \\;\\;\\;\\;\\forall \\; i = 1...n $$\n",
    "\n",
    "Only one queen is allowed per column:\n",
    "\n",
    "$$\\sum_{i=1}^nx_{ij} \\leq 1 \\;\\;\\;\\;\\forall \\; j = 1...n $$\n",
    "\n",
    "Descending Diagonals\n",
    "\n",
    "$$\\sum_{i=1\\\\{i-j=k}}^n\\sum_{j=1}^nx_{ij} \\leq 1 \\;\\;\\;\\;\\forall \\; k \\in \\{1-n,...,n-1\\}$$  \n",
    "\n",
    "Ascending Diagonals\n",
    "\n",
    "$$\\sum_{i=1\\\\{i+j=l}}^n\\sum_{j=1}^nx_{ij} \\leq 1 \\;\\;\\;\\;\\forall \\; l \\in \\{2,...,2n\\}$$  "
   ]
  },
  {
   "cell_type": "code",
   "execution_count": 20,
   "id": "numeric-recognition",
   "metadata": {},
   "outputs": [
    {
     "name": "stdout",
     "output_type": "stream",
     "text": [
      "For n = 8 there are 92 possible solutions\n"
     ]
    }
   ],
   "source": [
    "from gurobipy import *\n",
    "\n",
    "n=8\n",
    "\n",
    "x={}\n",
    "\n",
    "model = Model()\n",
    "\n",
    "for i in range(n):\n",
    "    for j in range(n):\n",
    "        x[i+1,j+1] = model.addVar(vtype=GRB.BINARY, obj=1, name=\"x_{}{}\".format(i+1,j+1))\n",
    "\n",
    "\n",
    "model.update()\n",
    "\n",
    "model.addConstr(quicksum(x[i+1,j+1] for i in range(n) for j in range(n)) == n)\n",
    "\n",
    "for i in range(n):\n",
    "    model.addConstr(quicksum(x[i+1,j+1] for j in range(n)) <= 1)\n",
    "\n",
    "for j in range(n):\n",
    "    model.addConstr(quicksum(x[i+1,j+1] for i in range(n)) <= 1)\n",
    "\n",
    "for k in range(1-n, n):\n",
    "    model.addConstr(quicksum(x[i+1,j+1] for i in range(n) for j in range(n) if i-j == k) <= 1)\n",
    "\n",
    "for l in range(0, 2*n-1):\n",
    "    model.addConstr(quicksum(x[i+1,j+1] for i in range(n) for j in range(n) if i+j == l) <= 1)\n",
    "\n",
    "\n",
    "# Gurobi Settings\n",
    "model.params.LogToConsole = 0         # Quiet Gurobi\n",
    "model.params.PoolSearchMode = 2       # Force Gurobi to search for multiple optimal solutions\n",
    "model.params.PoolSolutions = 10**8    # Store max 10**8 Solutions in the solution pool\n",
    "model.params.PoolGap = 0              # All Solutions in the pool have 0 % Gap = optimal solutions\n",
    "model.optimize()\n",
    "\n",
    "\n",
    "print(f\"For n = {n} there are {model.SolCount} possible solutions\")\n",
    "\n",
    "if model.status == GRB.status.OPTIMAL:\n",
    "    model.write(\"Queens.lp\")\n",
    "    model.write(\"Queens.sol\")\n",
    "elif model.status == GRB.status.INFEASIBLE:\n",
    "    model.computeIIS() # IIS tells you which constraints, when removed, makes the model feasible\n",
    "    model.write('inf.ilp')"
   ]
  },
  {
   "cell_type": "code",
   "execution_count": null,
   "id": "electrical-basis",
   "metadata": {},
   "outputs": [],
   "source": []
  },
  {
   "cell_type": "code",
   "execution_count": null,
   "id": "complete-logic",
   "metadata": {},
   "outputs": [],
   "source": []
  }
 ],
 "metadata": {
  "kernelspec": {
   "display_name": "Python 3",
   "language": "python",
   "name": "python3"
  },
  "language_info": {
   "codemirror_mode": {
    "name": "ipython",
    "version": 3
   },
   "file_extension": ".py",
   "mimetype": "text/x-python",
   "name": "python",
   "nbconvert_exporter": "python",
   "pygments_lexer": "ipython3",
   "version": "3.7.7"
  }
 },
 "nbformat": 4,
 "nbformat_minor": 5
}
